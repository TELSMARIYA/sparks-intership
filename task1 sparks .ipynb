{
 "cells": [
  {
   "cell_type": "markdown",
   "id": "12ff8b30",
   "metadata": {},
   "source": [
    "# scores prediction using linear regression model"
   ]
  },
  {
   "cell_type": "code",
   "execution_count": 6,
   "id": "c961035b",
   "metadata": {},
   "outputs": [],
   "source": [
    "# import all the libraries \n",
    "import numpy as np\n",
    "import pandas as pd\n",
    "import seaborn as sns\n",
    "import matplotlib.pyplot as plt\n",
    "from sklearn.model_selection import train_test_split\n",
    "from sklearn.linear_model import LinearRegression  "
   ]
  },
  {
   "cell_type": "code",
   "execution_count": 9,
   "id": "678ff962",
   "metadata": {
    "scrolled": false
   },
   "outputs": [],
   "source": [
    "# import the data \n",
    "df=pd.read_csv(\"https://raw.githubusercontent.com/AdiPersonalWorks/Random/master/student_scores%20-%20student_scores.csv\")"
   ]
  },
  {
   "cell_type": "code",
   "execution_count": 10,
   "id": "28d2656c",
   "metadata": {},
   "outputs": [
    {
     "data": {
      "text/html": [
       "<div>\n",
       "<style scoped>\n",
       "    .dataframe tbody tr th:only-of-type {\n",
       "        vertical-align: middle;\n",
       "    }\n",
       "\n",
       "    .dataframe tbody tr th {\n",
       "        vertical-align: top;\n",
       "    }\n",
       "\n",
       "    .dataframe thead th {\n",
       "        text-align: right;\n",
       "    }\n",
       "</style>\n",
       "<table border=\"1\" class=\"dataframe\">\n",
       "  <thead>\n",
       "    <tr style=\"text-align: right;\">\n",
       "      <th></th>\n",
       "      <th>Hours</th>\n",
       "      <th>Scores</th>\n",
       "    </tr>\n",
       "  </thead>\n",
       "  <tbody>\n",
       "    <tr>\n",
       "      <th>0</th>\n",
       "      <td>2.5</td>\n",
       "      <td>21</td>\n",
       "    </tr>\n",
       "    <tr>\n",
       "      <th>1</th>\n",
       "      <td>5.1</td>\n",
       "      <td>47</td>\n",
       "    </tr>\n",
       "    <tr>\n",
       "      <th>2</th>\n",
       "      <td>3.2</td>\n",
       "      <td>27</td>\n",
       "    </tr>\n",
       "    <tr>\n",
       "      <th>3</th>\n",
       "      <td>8.5</td>\n",
       "      <td>75</td>\n",
       "    </tr>\n",
       "    <tr>\n",
       "      <th>4</th>\n",
       "      <td>3.5</td>\n",
       "      <td>30</td>\n",
       "    </tr>\n",
       "    <tr>\n",
       "      <th>5</th>\n",
       "      <td>1.5</td>\n",
       "      <td>20</td>\n",
       "    </tr>\n",
       "    <tr>\n",
       "      <th>6</th>\n",
       "      <td>9.2</td>\n",
       "      <td>88</td>\n",
       "    </tr>\n",
       "    <tr>\n",
       "      <th>7</th>\n",
       "      <td>5.5</td>\n",
       "      <td>60</td>\n",
       "    </tr>\n",
       "    <tr>\n",
       "      <th>8</th>\n",
       "      <td>8.3</td>\n",
       "      <td>81</td>\n",
       "    </tr>\n",
       "    <tr>\n",
       "      <th>9</th>\n",
       "      <td>2.7</td>\n",
       "      <td>25</td>\n",
       "    </tr>\n",
       "    <tr>\n",
       "      <th>10</th>\n",
       "      <td>7.7</td>\n",
       "      <td>85</td>\n",
       "    </tr>\n",
       "    <tr>\n",
       "      <th>11</th>\n",
       "      <td>5.9</td>\n",
       "      <td>62</td>\n",
       "    </tr>\n",
       "    <tr>\n",
       "      <th>12</th>\n",
       "      <td>4.5</td>\n",
       "      <td>41</td>\n",
       "    </tr>\n",
       "    <tr>\n",
       "      <th>13</th>\n",
       "      <td>3.3</td>\n",
       "      <td>42</td>\n",
       "    </tr>\n",
       "    <tr>\n",
       "      <th>14</th>\n",
       "      <td>1.1</td>\n",
       "      <td>17</td>\n",
       "    </tr>\n",
       "    <tr>\n",
       "      <th>15</th>\n",
       "      <td>8.9</td>\n",
       "      <td>95</td>\n",
       "    </tr>\n",
       "    <tr>\n",
       "      <th>16</th>\n",
       "      <td>2.5</td>\n",
       "      <td>30</td>\n",
       "    </tr>\n",
       "    <tr>\n",
       "      <th>17</th>\n",
       "      <td>1.9</td>\n",
       "      <td>24</td>\n",
       "    </tr>\n",
       "    <tr>\n",
       "      <th>18</th>\n",
       "      <td>6.1</td>\n",
       "      <td>67</td>\n",
       "    </tr>\n",
       "    <tr>\n",
       "      <th>19</th>\n",
       "      <td>7.4</td>\n",
       "      <td>69</td>\n",
       "    </tr>\n",
       "    <tr>\n",
       "      <th>20</th>\n",
       "      <td>2.7</td>\n",
       "      <td>30</td>\n",
       "    </tr>\n",
       "    <tr>\n",
       "      <th>21</th>\n",
       "      <td>4.8</td>\n",
       "      <td>54</td>\n",
       "    </tr>\n",
       "    <tr>\n",
       "      <th>22</th>\n",
       "      <td>3.8</td>\n",
       "      <td>35</td>\n",
       "    </tr>\n",
       "    <tr>\n",
       "      <th>23</th>\n",
       "      <td>6.9</td>\n",
       "      <td>76</td>\n",
       "    </tr>\n",
       "    <tr>\n",
       "      <th>24</th>\n",
       "      <td>7.8</td>\n",
       "      <td>86</td>\n",
       "    </tr>\n",
       "  </tbody>\n",
       "</table>\n",
       "</div>"
      ],
      "text/plain": [
       "    Hours  Scores\n",
       "0     2.5      21\n",
       "1     5.1      47\n",
       "2     3.2      27\n",
       "3     8.5      75\n",
       "4     3.5      30\n",
       "5     1.5      20\n",
       "6     9.2      88\n",
       "7     5.5      60\n",
       "8     8.3      81\n",
       "9     2.7      25\n",
       "10    7.7      85\n",
       "11    5.9      62\n",
       "12    4.5      41\n",
       "13    3.3      42\n",
       "14    1.1      17\n",
       "15    8.9      95\n",
       "16    2.5      30\n",
       "17    1.9      24\n",
       "18    6.1      67\n",
       "19    7.4      69\n",
       "20    2.7      30\n",
       "21    4.8      54\n",
       "22    3.8      35\n",
       "23    6.9      76\n",
       "24    7.8      86"
      ]
     },
     "execution_count": 10,
     "metadata": {},
     "output_type": "execute_result"
    }
   ],
   "source": [
    "df"
   ]
  },
  {
   "cell_type": "code",
   "execution_count": 7,
   "id": "82022703",
   "metadata": {},
   "outputs": [
    {
     "data": {
      "image/png": "[encoded data removed]",
      "text/plain": [
       "<Figure size 480x320 with 1 Axes>"
      ]
     },
     "metadata": {},
     "output_type": "display_data"
    }
   ],
   "source": [
    "# visualization of the data\n",
    "plt.style.use('classic')\n",
    "plt.figure(figsize=(6,4))\n",
    "sns.scatterplot(x=df['Hours'], y=df['Scores'])\n",
    "plt.title('Hours vs Percentage')  \n",
    "plt.xlabel('Hours Studied')  \n",
    "plt.ylabel('Percentage Score')  \n",
    "plt.show()"
   ]
  },
  {
   "cell_type": "code",
   "execution_count": 12,
   "id": "9acb648c",
   "metadata": {},
   "outputs": [],
   "source": [
    "# get the features and the target \n",
    "features=df.drop('Scores', axis=1)\n",
    "target=df['Scores']"
   ]
  },
  {
   "cell_type": "code",
   "execution_count": 17,
   "id": "22dbd28b",
   "metadata": {},
   "outputs": [],
   "source": [
    "from sklearn.metrics import mean_squared_error,r2_score\n",
    "import warnings\n",
    "warnings.filterwarnings('ignore')"
   ]
  },
  {
   "cell_type": "code",
   "execution_count": 22,
   "id": "4493ee91",
   "metadata": {},
   "outputs": [
    {
     "data": {
      "text/html": [
       "<div>\n",
       "<style scoped>\n",
       "    .dataframe tbody tr th:only-of-type {\n",
       "        vertical-align: middle;\n",
       "    }\n",
       "\n",
       "    .dataframe tbody tr th {\n",
       "        vertical-align: top;\n",
       "    }\n",
       "\n",
       "    .dataframe thead th {\n",
       "        text-align: right;\n",
       "    }\n",
       "</style>\n",
       "<table border=\"1\" class=\"dataframe\">\n",
       "  <thead>\n",
       "    <tr style=\"text-align: right;\">\n",
       "      <th></th>\n",
       "      <th>RMSE Train</th>\n",
       "      <th>RMSE Test</th>\n",
       "      <th>R2 Train</th>\n",
       "      <th>R2 Test</th>\n",
       "      <th>Mean Absolute Error train</th>\n",
       "      <th>Mean Absolute Error test</th>\n",
       "    </tr>\n",
       "  </thead>\n",
       "  <tbody>\n",
       "    <tr>\n",
       "      <th>random_state60</th>\n",
       "      <td>5.708959</td>\n",
       "      <td>3.802453</td>\n",
       "      <td>0.942975</td>\n",
       "      <td>0.944132</td>\n",
       "      <td>5.341977</td>\n",
       "      <td>3.256972</td>\n",
       "    </tr>\n",
       "    <tr>\n",
       "      <th>random_state82</th>\n",
       "      <td>5.743697</td>\n",
       "      <td>3.941164</td>\n",
       "      <td>0.941189</td>\n",
       "      <td>0.981082</td>\n",
       "      <td>5.349487</td>\n",
       "      <td>3.670797</td>\n",
       "    </tr>\n",
       "    <tr>\n",
       "      <th>random_state96</th>\n",
       "      <td>5.688390</td>\n",
       "      <td>3.897598</td>\n",
       "      <td>0.946828</td>\n",
       "      <td>0.972347</td>\n",
       "      <td>5.312731</td>\n",
       "      <td>3.768767</td>\n",
       "    </tr>\n",
       "    <tr>\n",
       "      <th>random_state92</th>\n",
       "      <td>5.640515</td>\n",
       "      <td>4.303313</td>\n",
       "      <td>0.948296</td>\n",
       "      <td>0.938387</td>\n",
       "      <td>5.210245</td>\n",
       "      <td>3.825483</td>\n",
       "    </tr>\n",
       "    <tr>\n",
       "      <th>random_state26</th>\n",
       "      <td>5.642493</td>\n",
       "      <td>4.148255</td>\n",
       "      <td>0.942619</td>\n",
       "      <td>0.977806</td>\n",
       "      <td>5.263743</td>\n",
       "      <td>3.862779</td>\n",
       "    </tr>\n",
       "    <tr>\n",
       "      <th>...</th>\n",
       "      <td>...</td>\n",
       "      <td>...</td>\n",
       "      <td>...</td>\n",
       "      <td>...</td>\n",
       "      <td>...</td>\n",
       "      <td>...</td>\n",
       "    </tr>\n",
       "    <tr>\n",
       "      <th>random_state29</th>\n",
       "      <td>4.714017</td>\n",
       "      <td>7.842681</td>\n",
       "      <td>0.962162</td>\n",
       "      <td>0.874883</td>\n",
       "      <td>4.461486</td>\n",
       "      <td>7.357770</td>\n",
       "    </tr>\n",
       "    <tr>\n",
       "      <th>random_state36</th>\n",
       "      <td>4.743133</td>\n",
       "      <td>7.765814</td>\n",
       "      <td>0.954756</td>\n",
       "      <td>0.343338</td>\n",
       "      <td>4.318207</td>\n",
       "      <td>7.696358</td>\n",
       "    </tr>\n",
       "    <tr>\n",
       "      <th>random_state35</th>\n",
       "      <td>4.600274</td>\n",
       "      <td>8.055170</td>\n",
       "      <td>0.963096</td>\n",
       "      <td>0.891466</td>\n",
       "      <td>4.345924</td>\n",
       "      <td>7.700839</td>\n",
       "    </tr>\n",
       "    <tr>\n",
       "      <th>random_state1</th>\n",
       "      <td>4.785984</td>\n",
       "      <td>8.299453</td>\n",
       "      <td>0.963785</td>\n",
       "      <td>0.842103</td>\n",
       "      <td>4.577806</td>\n",
       "      <td>7.882398</td>\n",
       "    </tr>\n",
       "    <tr>\n",
       "      <th>random_state11</th>\n",
       "      <td>4.653948</td>\n",
       "      <td>8.869099</td>\n",
       "      <td>0.958926</td>\n",
       "      <td>0.881990</td>\n",
       "      <td>4.302654</td>\n",
       "      <td>8.237073</td>\n",
       "    </tr>\n",
       "  </tbody>\n",
       "</table>\n",
       "<p>100 rows × 6 columns</p>\n",
       "</div>"
      ],
      "text/plain": [
       "                RMSE Train  RMSE Test  R2 Train   R2 Test  \\\n",
       "random_state60    5.708959   3.802453  0.942975  0.944132   \n",
       "random_state82    5.743697   3.941164  0.941189  0.981082   \n",
       "random_state96    5.688390   3.897598  0.946828  0.972347   \n",
       "random_state92    5.640515   4.303313  0.948296  0.938387   \n",
       "random_state26    5.642493   4.148255  0.942619  0.977806   \n",
       "...                    ...        ...       ...       ...   \n",
       "random_state29    4.714017   7.842681  0.962162  0.874883   \n",
       "random_state36    4.743133   7.765814  0.954756  0.343338   \n",
       "random_state35    4.600274   8.055170  0.963096  0.891466   \n",
       "random_state1     4.785984   8.299453  0.963785  0.842103   \n",
       "random_state11    4.653948   8.869099  0.958926  0.881990   \n",
       "\n",
       "                Mean Absolute Error train  Mean Absolute Error test  \n",
       "random_state60                   5.341977                  3.256972  \n",
       "random_state82                   5.349487                  3.670797  \n",
       "random_state96                   5.312731                  3.768767  \n",
       "random_state92                   5.210245                  3.825483  \n",
       "random_state26                   5.263743                  3.862779  \n",
       "...                                   ...                       ...  \n",
       "random_state29                   4.461486                  7.357770  \n",
       "random_state36                   4.318207                  7.696358  \n",
       "random_state35                   4.345924                  7.700839  \n",
       "random_state1                    4.577806                  7.882398  \n",
       "random_state11                   4.302654                  8.237073  \n",
       "\n",
       "[100 rows x 6 columns]"
      ]
     },
     "execution_count": 22,
     "metadata": {},
     "output_type": "execute_result"
    }
   ],
   "source": [
    "# finding the best random state \n",
    "import pandas as pd\n",
    "from sklearn.model_selection import train_test_split\n",
    "from sklearn.linear_model import LinearRegression\n",
    "from sklearn.metrics import mean_squared_error, r2_score,mean_absolute_error\n",
    "\n",
    "# Create an empty DataFrame to store the results\n",
    "data= pd.DataFrame(columns=['RMSE Train', 'RMSE Test', 'R2 Train', 'R2 Test',\n",
    "                            'Mean Absolute Error train','Mean Absolute Error test'])\n",
    "\n",
    "for i in range(0,100):\n",
    "    x_train, x_test, y_train, y_test = train_test_split(features, target, test_size=0.2, random_state=i)\n",
    "    lr = LinearRegression()  \n",
    "    lr.fit(x_train, y_train) \n",
    "    \n",
    "    y_pred_train = lr.predict(x_train)\n",
    "    y_pred_test = lr.predict(x_test)\n",
    "    new_row_data = {'RMSE Train': mean_squared_error(y_train, y_pred_train, squared=False),\n",
    "                    'RMSE Test': mean_squared_error(y_test, y_pred_test, squared=False),\n",
    "                    'R2 Train': r2_score(y_train, y_pred_train),\n",
    "                    'R2 Test': r2_score(y_test, y_pred_test),\n",
    "                   'Mean Absolute Error train':mean_absolute_error(y_train, y_pred_train),\n",
    "                    'Mean Absolute Error test':mean_absolute_error(y_test, y_pred_test)}\n",
    "    new_row_df = pd.DataFrame([new_row_data], index=['random_state'+str(i)])\n",
    "\n",
    "    # Append the new row to the existing DataFrame\n",
    "    data = data.append(new_row_df)\n",
    "\n",
    "data.sort_values(by='Mean Absolute Error test')\n"
   ]
  },
  {
   "cell_type": "markdown",
   "id": "865a05b0",
   "metadata": {},
   "source": [
    "`THE BEST RANDOM STATE IS 60`"
   ]
  },
  {
   "cell_type": "code",
   "execution_count": 25,
   "id": "f0f3c03e",
   "metadata": {},
   "outputs": [],
   "source": [
    "# TRAIN THE MODEL\n",
    "from sklearn.model_selection import train_test_split  \n",
    "x_train, x_test, y_train, y_test = train_test_split(features, target, \n",
    "                            test_size=0.2, random_state=60) "
   ]
  },
  {
   "cell_type": "code",
   "execution_count": 26,
   "id": "6d1864c9",
   "metadata": {},
   "outputs": [
    {
     "data": {
      "text/html": [
       "<style>#sk-container-id-1 {color: black;}#sk-container-id-1 pre{padding: 0;}#sk-container-id-1 div.sk-toggleable {background-color: white;}#sk-container-id-1 label.sk-toggleable__label {cursor: pointer;display: block;width: 100%;margin-bottom: 0;padding: 0.3em;box-sizing: border-box;text-align: center;}#sk-container-id-1 label.sk-toggleable__label-arrow:before {content: \"▸\";float: left;margin-right: 0.25em;color: #696969;}#sk-container-id-1 label.sk-toggleable__label-arrow:hover:before {color: black;}#sk-container-id-1 div.sk-estimator:hover label.sk-toggleable__label-arrow:before {color: black;}#sk-container-id-1 div.sk-toggleable__content {max-height: 0;max-width: 0;overflow: hidden;text-align: left;background-color: #f0f8ff;}#sk-container-id-1 div.sk-toggleable__content pre {margin: 0.2em;color: black;border-radius: 0.25em;background-color: #f0f8ff;}#sk-container-id-1 input.sk-toggleable__control:checked~div.sk-toggleable__content {max-height: 200px;max-width: 100%;overflow: auto;}#sk-container-id-1 input.sk-toggleable__control:checked~label.sk-toggleable__label-arrow:before {content: \"▾\";}#sk-container-id-1 div.sk-estimator input.sk-toggleable__control:checked~label.sk-toggleable__label {background-color: #d4ebff;}#sk-container-id-1 div.sk-label input.sk-toggleable__control:checked~label.sk-toggleable__label {background-color: #d4ebff;}#sk-container-id-1 input.sk-hidden--visually {border: 0;clip: rect(1px 1px 1px 1px);clip: rect(1px, 1px, 1px, 1px);height: 1px;margin: -1px;overflow: hidden;padding: 0;position: absolute;width: 1px;}#sk-container-id-1 div.sk-estimator {font-family: monospace;background-color: #f0f8ff;border: 1px dotted black;border-radius: 0.25em;box-sizing: border-box;margin-bottom: 0.5em;}#sk-container-id-1 div.sk-estimator:hover {background-color: #d4ebff;}#sk-container-id-1 div.sk-parallel-item::after {content: \"\";width: 100%;border-bottom: 1px solid gray;flex-grow: 1;}#sk-container-id-1 div.sk-label:hover label.sk-toggleable__label {background-color: #d4ebff;}#sk-container-id-1 div.sk-serial::before {content: \"\";position: absolute;border-left: 1px solid gray;box-sizing: border-box;top: 0;bottom: 0;left: 50%;z-index: 0;}#sk-container-id-1 div.sk-serial {display: flex;flex-direction: column;align-items: center;background-color: white;padding-right: 0.2em;padding-left: 0.2em;position: relative;}#sk-container-id-1 div.sk-item {position: relative;z-index: 1;}#sk-container-id-1 div.sk-parallel {display: flex;align-items: stretch;justify-content: center;background-color: white;position: relative;}#sk-container-id-1 div.sk-item::before, #sk-container-id-1 div.sk-parallel-item::before {content: \"\";position: absolute;border-left: 1px solid gray;box-sizing: border-box;top: 0;bottom: 0;left: 50%;z-index: -1;}#sk-container-id-1 div.sk-parallel-item {display: flex;flex-direction: column;z-index: 1;position: relative;background-color: white;}#sk-container-id-1 div.sk-parallel-item:first-child::after {align-self: flex-end;width: 50%;}#sk-container-id-1 div.sk-parallel-item:last-child::after {align-self: flex-start;width: 50%;}#sk-container-id-1 div.sk-parallel-item:only-child::after {width: 0;}#sk-container-id-1 div.sk-dashed-wrapped {border: 1px dashed gray;margin: 0 0.4em 0.5em 0.4em;box-sizing: border-box;padding-bottom: 0.4em;background-color: white;}#sk-container-id-1 div.sk-label label {font-family: monospace;font-weight: bold;display: inline-block;line-height: 1.2em;}#sk-container-id-1 div.sk-label-container {text-align: center;}#sk-container-id-1 div.sk-container {/* jupyter's `normalize.less` sets `[hidden] { display: none; }` but bootstrap.min.css set `[hidden] { display: none !important; }` so we also need the `!important` here to be able to override the default hidden behavior on the sphinx rendered scikit-learn.org. See: https://github.com/scikit-learn/scikit-learn/issues/21755 */display: inline-block !important;position: relative;}#sk-container-id-1 div.sk-text-repr-fallback {display: none;}</style><div id=\"sk-container-id-1\" class=\"sk-top-container\"><div class=\"sk-text-repr-fallback\"><pre>LinearRegression()</pre><b>In a Jupyter environment, please rerun this cell to show the HTML representation or trust the notebook. <br />On GitHub, the HTML representation is unable to render, please try loading this page with nbviewer.org.</b></div><div class=\"sk-container\" hidden><div class=\"sk-item\"><div class=\"sk-estimator sk-toggleable\"><input class=\"sk-toggleable__control sk-hidden--visually\" id=\"sk-estimator-id-1\" type=\"checkbox\" checked><label for=\"sk-estimator-id-1\" class=\"sk-toggleable__label sk-toggleable__label-arrow\">LinearRegression</label><div class=\"sk-toggleable__content\"><pre>LinearRegression()</pre></div></div></div></div></div>"
      ],
      "text/plain": [
       "LinearRegression()"
      ]
     },
     "execution_count": 26,
     "metadata": {},
     "output_type": "execute_result"
    }
   ],
   "source": [
    "lr= LinearRegression()  \n",
    "lr.fit(x_train, y_train) "
   ]
  },
  {
   "cell_type": "code",
   "execution_count": 27,
   "id": "9e089f8e",
   "metadata": {},
   "outputs": [],
   "source": [
    "# GET THE PREDICTIONS\n",
    "y_pred=lr.predict(x_test)"
   ]
  },
  {
   "cell_type": "code",
   "execution_count": 28,
   "id": "7b850123",
   "metadata": {},
   "outputs": [
    {
     "data": {
      "text/html": [
       "<div>\n",
       "<style scoped>\n",
       "    .dataframe tbody tr th:only-of-type {\n",
       "        vertical-align: middle;\n",
       "    }\n",
       "\n",
       "    .dataframe tbody tr th {\n",
       "        vertical-align: top;\n",
       "    }\n",
       "\n",
       "    .dataframe thead th {\n",
       "        text-align: right;\n",
       "    }\n",
       "</style>\n",
       "<table border=\"1\" class=\"dataframe\">\n",
       "  <thead>\n",
       "    <tr style=\"text-align: right;\">\n",
       "      <th></th>\n",
       "      <th>Actual</th>\n",
       "      <th>Predicted</th>\n",
       "    </tr>\n",
       "  </thead>\n",
       "  <tbody>\n",
       "    <tr>\n",
       "      <th>14</th>\n",
       "      <td>17</td>\n",
       "      <td>13.765605</td>\n",
       "    </tr>\n",
       "    <tr>\n",
       "      <th>20</th>\n",
       "      <td>30</td>\n",
       "      <td>29.271268</td>\n",
       "    </tr>\n",
       "    <tr>\n",
       "      <th>11</th>\n",
       "      <td>62</td>\n",
       "      <td>60.282595</td>\n",
       "    </tr>\n",
       "    <tr>\n",
       "      <th>0</th>\n",
       "      <td>21</td>\n",
       "      <td>27.333060</td>\n",
       "    </tr>\n",
       "    <tr>\n",
       "      <th>9</th>\n",
       "      <td>25</td>\n",
       "      <td>29.271268</td>\n",
       "    </tr>\n",
       "  </tbody>\n",
       "</table>\n",
       "</div>"
      ],
      "text/plain": [
       "    Actual  Predicted\n",
       "14      17  13.765605\n",
       "20      30  29.271268\n",
       "11      62  60.282595\n",
       "0       21  27.333060\n",
       "9       25  29.271268"
      ]
     },
     "execution_count": 28,
     "metadata": {},
     "output_type": "execute_result"
    }
   ],
   "source": [
    "df = pd.DataFrame({'Actual': y_test, 'Predicted': y_pred})  \n",
    "df"
   ]
  },
  {
   "cell_type": "code",
   "execution_count": 29,
   "id": "bebb1f51",
   "metadata": {},
   "outputs": [
    {
     "name": "stdout",
     "output_type": "stream",
     "text": [
      "No of Hours = [[9.25]]\n",
      "Predicted Score = 92.74757780643364\n"
     ]
    }
   ],
   "source": [
    "# test with  data\n",
    "hours = np.array(9.25)\n",
    "# Reshape to 2D array\n",
    "reshaped_array = np.array(hours).reshape(-1, 1)\n",
    "\n",
    "own_pred = lr.predict(reshaped_array)\n",
    "print(\"No of Hours = {}\".format(reshaped_array))\n",
    "print(\"Predicted Score = {}\".format(own_pred[0]))"
   ]
  },
  {
   "cell_type": "code",
   "execution_count": 39,
   "id": "34da3866",
   "metadata": {},
   "outputs": [
    {
     "name": "stdout",
     "output_type": "stream",
     "text": [
      "Mean Absolute Error: 3.256972083783501\n"
     ]
    }
   ],
   "source": [
    "# GET THE MEAN ABSOLUTE ERROR\n",
    "from sklearn import metrics  \n",
    "print('Mean Absolute Error:', \n",
    "      metrics.mean_absolute_error(y_test, y_pred)) "
   ]
  },
  {
   "cell_type": "code",
   "execution_count": 46,
   "id": "1c1240dd",
   "metadata": {},
   "outputs": [
    {
     "data": {
      "image/png": "[encoded data removed]",
      "text/plain": [
       "<Figure size 800x400 with 1 Axes>"
      ]
     },
     "metadata": {},
     "output_type": "display_data"
    }
   ],
   "source": [
    "# GET THE RESIDUAL PLOT \n",
    "plt.style.use('fivethirtyeight')\n",
    "plt.figure(figsize=(10, 5))\n",
    "sns.scatterplot(x=y_test, y=(y_test - y_pred_test), color='blue', label='Residuals')\n",
    "plt.axhline(y=0, color='red', linestyle='--', linewidth=3, label='Zero Residuals')\n",
    "plt.xlabel('Actual Values')\n",
    "plt.ylabel('Residuals')\n",
    "plt.title('Residual Plot')\n",
    "plt.legend()\n",
    "plt.show()"
   ]
  },
  {
   "cell_type": "code",
   "execution_count": null,
   "id": "70c12620",
   "metadata": {},
   "outputs": [],
   "source": []
  },
  {
   "cell_type": "code",
   "execution_count": null,
   "id": "b5152a61",
   "metadata": {},
   "outputs": [],
   "source": [
    "# CAN DEPLOY USING CODES BELOW "
   ]
  },
  {
   "cell_type": "code",
   "execution_count": 47,
   "id": "1b6b2f88",
   "metadata": {},
   "outputs": [],
   "source": [
    "import pickle\n",
    "import streamlit"
   ]
  },
  {
   "cell_type": "code",
   "execution_count": 48,
   "id": "3e6784e7",
   "metadata": {},
   "outputs": [],
   "source": [
    "model=open('rfc.pickle','wb')\n",
    "pickle.dump(lr,model)  \n",
    "model.close()"
   ]
  },
  {
   "cell_type": "code",
   "execution_count": 49,
   "id": "4d385bf8",
   "metadata": {},
   "outputs": [
    {
     "name": "stdout",
     "output_type": "stream",
     "text": [
      "Writing app.py\n"
     ]
    }
   ],
   "source": [
    "%%writefile app.py\n",
    "import streamlit as st\n",
    "import pandas as pd\n",
    "import numpy as np\n",
    "import matplotlib.pyplot as plt\n",
    "import pickle\n",
    "from sklearn.linear_model import LinearRegression\n",
    "import seaborn as sns\n",
    "st.set_option('deprecation.showPyplotGlobalUse', False)\n",
    "\n",
    "st.title('Scores Prediction based on Hours ')\n",
    "\n",
    "df=pd.read_csv(\"https://raw.githubusercontent.com/AdiPersonalWorks/Random/master/student_scores%20-%20student_scores.csv\")\n",
    "\n",
    "if st.sidebar.checkbox('View Data', False):\n",
    "    st.write(df)\n",
    "if st.sidebar.checkbox('View Distributions', False):\n",
    "    sns.scatterplot(x=df['Hours'], y=df['Scores'])\n",
    "    \n",
    "    \n",
    "# step 1 : load the pickled model\n",
    "model=open('rfc.pickle','rb')\n",
    "clf=pickle.load(model)\n",
    "model.close()\n",
    "    \n",
    "\n",
    "# step 2. get the front end user input \n",
    "Hours=st.number_input('Hours of study',0,1)\n",
    "\n",
    "#step 3: get the model input (convert user input to model imput)\n",
    "input_data=[[Hours]]\n",
    "\n",
    "#step 4: get the prediction and print the results \n",
    "\n",
    "prediction=clf.predict(input_data)[0]\n",
    "st.button('Predict')\n",
    "st.success(f'The predicted car purchase amount is: {prediction:.2f}')"
   ]
  },
  {
   "cell_type": "code",
   "execution_count": null,
   "id": "a28eca7b",
   "metadata": {},
   "outputs": [],
   "source": []
  },
  {
   "cell_type": "code",
   "execution_count": null,
   "id": "d0dda04c",
   "metadata": {},
   "outputs": [],
   "source": []
  },
  {
   "cell_type": "code",
   "execution_count": null,
   "id": "b27d8502",
   "metadata": {},
   "outputs": [],
   "source": []
  }
 ],
 "metadata": {
  "kernelspec": {
   "display_name": "Python 3 (ipykernel)",
   "language": "python",
   "name": "python3"
  },
  "language_info": {
   "codemirror_mode": {
    "name": "ipython",
    "version": 3
   },
   "file_extension": ".py",
   "mimetype": "text/x-python",
   "name": "python",
   "nbconvert_exporter": "python",
   "pygments_lexer": "ipython3",
   "version": "3.11.5"
  }
 },
 "nbformat": 4,
 "nbformat_minor": 5
}
